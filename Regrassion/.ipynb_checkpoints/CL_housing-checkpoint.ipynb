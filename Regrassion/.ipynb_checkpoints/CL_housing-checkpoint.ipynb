{
 "cells": [
  {
   "cell_type": "code",
   "execution_count": 2,
   "id": "41bf0cf3-4446-4c31-b290-6e4a937f16a8",
   "metadata": {},
   "outputs": [
    {
     "name": "stderr",
     "output_type": "stream",
     "text": [
      "2023-05-18 01:28:41.465493: I tensorflow/core/platform/cpu_feature_guard.cc:193] This TensorFlow binary is optimized with oneAPI Deep Neural Network Library (oneDNN) to use the following CPU instructions in performance-critical operations:  SSE4.1 SSE4.2\n",
      "To enable them in other operations, rebuild TensorFlow with the appropriate compiler flags.\n"
     ]
    }
   ],
   "source": [
    "import numpy as np\n",
    "import pandas as pd\n",
    "import seaborn as sns\n",
    "import matplotlib.pylab as plt\n",
    "\n",
    "from sklearn.datasets import fetch_california_housing\n",
    "from sklearn.model_selection import train_test_split\n",
    "from sklearn.preprocessing import StandardScaler\n",
    "\n",
    "import tensorflow as tf\n",
    "from tensorflow import keras\n",
    "import keras.backend as K"
   ]
  },
  {
   "cell_type": "code",
   "execution_count": 4,
   "id": "b5b6bd47-ef51-4030-88c2-7567145d5c9b",
   "metadata": {},
   "outputs": [],
   "source": [
    "housing = fetch_california_housing()"
   ]
  },
  {
   "cell_type": "code",
   "execution_count": 5,
   "id": "142faa9a-f69d-4c98-81a4-f7d16322230b",
   "metadata": {},
   "outputs": [],
   "source": [
    "X_train_full, X_test, y_train_full, y_test = train_test_split(housing.data, housing.target)\n",
    "X_train, X_valid, y_train, y_valid = train_test_split(X_train_full, y_train_full)"
   ]
  },
  {
   "cell_type": "code",
   "execution_count": 6,
   "id": "8faffbcb-6557-4e0b-9ca3-d14b23ec01e8",
   "metadata": {},
   "outputs": [],
   "source": [
    "scaler = StandardScaler()\n",
    "X_train = scaler.fit_transform(X_train)\n",
    "X_valid = scaler.transform(X_valid)\n",
    "X_test = scaler.transform(X_test)"
   ]
  },
  {
   "cell_type": "code",
   "execution_count": 14,
   "id": "8446e8a2-f0cb-4e66-939e-17f3ff1eb873",
   "metadata": {},
   "outputs": [],
   "source": [
    "model = keras.models.Sequential()\n",
    "model.add(keras.layers.Dense(30, activation=\"relu\", input_shape=X_train.shape[1:]))\n",
    "model.add(keras.layers.Dense(1))"
   ]
  },
  {
   "cell_type": "code",
   "execution_count": 15,
   "id": "42c07cbd-cade-4598-a2f6-8810376584ff",
   "metadata": {},
   "outputs": [],
   "source": [
    "model.compile(loss=\"mean_squared_error\", optimizer=\"sgd\")"
   ]
  },
  {
   "cell_type": "code",
   "execution_count": 16,
   "id": "a0983419-671c-4749-af10-41cf79f5bd01",
   "metadata": {},
   "outputs": [
    {
     "name": "stdout",
     "output_type": "stream",
     "text": [
      "Epoch 1/20\n",
      "363/363 [==============================] - 0s 861us/step - loss: 0.8732 - val_loss: 0.5500\n",
      "Epoch 2/20\n",
      "363/363 [==============================] - 0s 613us/step - loss: 0.5378 - val_loss: 0.4807\n",
      "Epoch 3/20\n",
      "363/363 [==============================] - 0s 603us/step - loss: 0.4976 - val_loss: 0.4646\n",
      "Epoch 4/20\n",
      "363/363 [==============================] - 0s 617us/step - loss: 0.6108 - val_loss: 0.4766\n",
      "Epoch 5/20\n",
      "363/363 [==============================] - 0s 624us/step - loss: 0.4960 - val_loss: 0.4465\n",
      "Epoch 6/20\n",
      "363/363 [==============================] - 0s 641us/step - loss: 0.4601 - val_loss: 0.4335\n",
      "Epoch 7/20\n",
      "363/363 [==============================] - 0s 776us/step - loss: 0.4464 - val_loss: 0.4197\n",
      "Epoch 8/20\n",
      "363/363 [==============================] - 0s 869us/step - loss: 0.4378 - val_loss: 0.4093\n",
      "Epoch 9/20\n",
      "363/363 [==============================] - 0s 816us/step - loss: 0.4477 - val_loss: 0.4016\n",
      "Epoch 10/20\n",
      "363/363 [==============================] - 0s 664us/step - loss: 0.4246 - val_loss: 0.4029\n",
      "Epoch 11/20\n",
      "363/363 [==============================] - 0s 658us/step - loss: 0.4159 - val_loss: 0.3933\n",
      "Epoch 12/20\n",
      "363/363 [==============================] - 0s 663us/step - loss: 0.4110 - val_loss: 0.3884\n",
      "Epoch 13/20\n",
      "363/363 [==============================] - 0s 642us/step - loss: 0.4087 - val_loss: 0.3839\n",
      "Epoch 14/20\n",
      "363/363 [==============================] - 0s 819us/step - loss: 0.4076 - val_loss: 0.3892\n",
      "Epoch 15/20\n",
      "363/363 [==============================] - 0s 673us/step - loss: 0.4490 - val_loss: 0.3776\n",
      "Epoch 16/20\n",
      "363/363 [==============================] - 0s 666us/step - loss: 0.3969 - val_loss: 0.3728\n",
      "Epoch 17/20\n",
      "363/363 [==============================] - 0s 665us/step - loss: 0.3920 - val_loss: 0.3696\n",
      "Epoch 18/20\n",
      "363/363 [==============================] - 0s 662us/step - loss: 0.3906 - val_loss: 0.4418\n",
      "Epoch 19/20\n",
      "363/363 [==============================] - 0s 666us/step - loss: 0.4068 - val_loss: 0.3659\n",
      "Epoch 20/20\n",
      "363/363 [==============================] - 0s 631us/step - loss: 0.3892 - val_loss: 0.3654\n"
     ]
    }
   ],
   "source": [
    "history = model.fit(X_train, y_train, epochs=20, validation_data=(X_valid, y_valid))"
   ]
  },
  {
   "cell_type": "code",
   "execution_count": 17,
   "id": "6339b656-4d6e-4c4f-9258-c1612febeca9",
   "metadata": {},
   "outputs": [
    {
     "name": "stdout",
     "output_type": "stream",
     "text": [
      "162/162 [==============================] - 0s 444us/step - loss: 0.3810\n"
     ]
    }
   ],
   "source": [
    "mse_test = model.evaluate(X_test, y_test)"
   ]
  },
  {
   "cell_type": "code",
   "execution_count": 18,
   "id": "3438057d-014a-449a-94d4-b6db147e2d53",
   "metadata": {},
   "outputs": [
    {
     "name": "stdout",
     "output_type": "stream",
     "text": [
      "1/1 [==============================] - 0s 50ms/step\n"
     ]
    }
   ],
   "source": [
    "X_new = X_test[:3]\n",
    "y_pred = model.predict(X_new)"
   ]
  },
  {
   "cell_type": "code",
   "execution_count": null,
   "id": "9b2a1495-571c-4a1d-947f-ad19db18390e",
   "metadata": {},
   "outputs": [],
   "source": []
  }
 ],
 "metadata": {
  "kernelspec": {
   "display_name": "gig",
   "language": "python",
   "name": "gig"
  },
  "language_info": {
   "codemirror_mode": {
    "name": "ipython",
    "version": 3
   },
   "file_extension": ".py",
   "mimetype": "text/x-python",
   "name": "python",
   "nbconvert_exporter": "python",
   "pygments_lexer": "ipython3",
   "version": "3.10.10"
  }
 },
 "nbformat": 4,
 "nbformat_minor": 5
}
